{
 "cells": [
  {
   "cell_type": "markdown",
   "metadata": {},
   "source": [
    "# Subplots"
   ]
  },
  {
   "cell_type": "code",
   "execution_count": 1,
   "metadata": {},
   "outputs": [
    {
     "data": {
      "application/vnd.jupyter.widget-view+json": {
       "model_id": "3865c89acee94752b26741eb693644ef",
       "version_major": 2,
       "version_minor": 0
      },
      "text/plain": [
       "Canvas(toolbar=Toolbar(toolitems=[('Home', 'Reset original view', 'home', 'home'), ('Back', 'Back to previous …"
      ]
     },
     "metadata": {},
     "output_type": "display_data"
    },
    {
     "data": {
      "text/plain": [
       "<matplotlib.axes._subplots.AxesSubplot at 0x1be624bf108>"
      ]
     },
     "execution_count": 1,
     "metadata": {},
     "output_type": "execute_result"
    }
   ],
   "source": [
    "%matplotlib widget\n",
    "\n",
    "import matplotlib.pyplot as plt\n",
    "import numpy as np\n",
    "\n",
    "plt.subplot()"
   ]
  },
  {
   "cell_type": "code",
   "execution_count": 2,
   "metadata": {
    "collapsed": false,
    "jupyter": {
     "outputs_hidden": false
    }
   },
   "outputs": [
    {
     "data": {
      "application/vnd.jupyter.widget-view+json": {
       "model_id": "514457b6578b444b8adffcbd7bf36887",
       "version_major": 2,
       "version_minor": 0
      },
      "text/plain": [
       "Canvas(toolbar=Toolbar(toolitems=[('Home', 'Reset original view', 'home', 'home'), ('Back', 'Back to previous …"
      ]
     },
     "metadata": {},
     "output_type": "display_data"
    },
    {
     "data": {
      "text/plain": [
       "[<matplotlib.lines.Line2D at 0x1be5fca1dc8>]"
      ]
     },
     "execution_count": 2,
     "metadata": {},
     "output_type": "execute_result"
    }
   ],
   "source": [
    "plt.figure()\n",
    "# subplot with 1 row, 2 columns, and current axis is 1st subplot axes\n",
    "plt.subplot(1, 2, 1)\n",
    "\n",
    "linear_data = np.array([1,2,3,4,5,6,7,8])\n",
    "\n",
    "plt.plot(linear_data, '-o')"
   ]
  },
  {
   "cell_type": "code",
   "execution_count": 3,
   "metadata": {
    "collapsed": false,
    "jupyter": {
     "outputs_hidden": false
    }
   },
   "outputs": [
    {
     "data": {
      "text/plain": [
       "[<matplotlib.lines.Line2D at 0x1be5fcbf708>]"
      ]
     },
     "execution_count": 3,
     "metadata": {},
     "output_type": "execute_result"
    }
   ],
   "source": [
    "exponential_data = linear_data**2 \n",
    "\n",
    "# subplot with 1 row, 2 columns, and current axis is 2nd subplot axes\n",
    "plt.subplot(1, 2, 2)\n",
    "plt.plot(exponential_data, '-o')"
   ]
  },
  {
   "cell_type": "code",
   "execution_count": 4,
   "metadata": {
    "collapsed": false,
    "jupyter": {
     "outputs_hidden": false
    }
   },
   "outputs": [
    {
     "name": "stderr",
     "output_type": "stream",
     "text": [
      "C:\\Users\\mdomi\\anaconda3\\lib\\site-packages\\ipykernel_launcher.py:2: MatplotlibDeprecationWarning: Adding an axes using the same arguments as a previous axes currently reuses the earlier instance.  In a future version, a new instance will always be created and returned.  Meanwhile, this warning can be suppressed, and the future behavior ensured, by passing a unique label to each axes instance.\n",
      "  \n"
     ]
    },
    {
     "data": {
      "text/plain": [
       "[<matplotlib.lines.Line2D at 0x1be5fcff108>]"
      ]
     },
     "execution_count": 4,
     "metadata": {},
     "output_type": "execute_result"
    }
   ],
   "source": [
    "# plot exponential data on 1st subplot axes\n",
    "plt.subplot(1, 2, 1)\n",
    "plt.plot(exponential_data, '-x')"
   ]
  },
  {
   "cell_type": "code",
   "execution_count": 5,
   "metadata": {
    "collapsed": false,
    "jupyter": {
     "outputs_hidden": false
    }
   },
   "outputs": [
    {
     "data": {
      "application/vnd.jupyter.widget-view+json": {
       "model_id": "692db942c5bb47efb1168ee32866f117",
       "version_major": 2,
       "version_minor": 0
      },
      "text/plain": [
       "Canvas(toolbar=Toolbar(toolitems=[('Home', 'Reset original view', 'home', 'home'), ('Back', 'Back to previous …"
      ]
     },
     "metadata": {},
     "output_type": "display_data"
    },
    {
     "data": {
      "text/plain": [
       "[<matplotlib.lines.Line2D at 0x1be635761c8>]"
      ]
     },
     "execution_count": 5,
     "metadata": {},
     "output_type": "execute_result"
    }
   ],
   "source": [
    "plt.figure()\n",
    "ax1 = plt.subplot(1, 2, 1)\n",
    "plt.plot(linear_data, '-o')\n",
    "# pass sharey=ax1 to ensure the two subplots share the same y axis\n",
    "ax2 = plt.subplot(1, 2, 2, sharey=ax1)\n",
    "plt.plot(exponential_data, '-x')"
   ]
  },
  {
   "cell_type": "code",
   "execution_count": 6,
   "metadata": {
    "collapsed": false,
    "jupyter": {
     "outputs_hidden": false
    }
   },
   "outputs": [
    {
     "data": {
      "application/vnd.jupyter.widget-view+json": {
       "model_id": "33cf3d345a36494388b48926b73eabd9",
       "version_major": 2,
       "version_minor": 0
      },
      "text/plain": [
       "Canvas(toolbar=Toolbar(toolitems=[('Home', 'Reset original view', 'home', 'home'), ('Back', 'Back to previous …"
      ]
     },
     "metadata": {},
     "output_type": "display_data"
    },
    {
     "name": "stderr",
     "output_type": "stream",
     "text": [
      "C:\\Users\\mdomi\\anaconda3\\lib\\site-packages\\ipykernel_launcher.py:3: MatplotlibDeprecationWarning: Adding an axes using the same arguments as a previous axes currently reuses the earlier instance.  In a future version, a new instance will always be created and returned.  Meanwhile, this warning can be suppressed, and the future behavior ensured, by passing a unique label to each axes instance.\n",
      "  This is separate from the ipykernel package so we can avoid doing imports until\n"
     ]
    },
    {
     "data": {
      "text/plain": [
       "True"
      ]
     },
     "execution_count": 6,
     "metadata": {},
     "output_type": "execute_result"
    }
   ],
   "source": [
    "plt.figure()\n",
    "# the right hand side is equivalent shorthand syntax\n",
    "plt.subplot(1,2,1) == plt.subplot(121)"
   ]
  },
  {
   "cell_type": "code",
   "execution_count": 7,
   "metadata": {
    "collapsed": false,
    "jupyter": {
     "outputs_hidden": false
    }
   },
   "outputs": [
    {
     "data": {
      "application/vnd.jupyter.widget-view+json": {
       "model_id": "916fc18fcdfe4aed89991970a425e394",
       "version_major": 2,
       "version_minor": 0
      },
      "text/plain": [
       "Canvas(toolbar=Toolbar(toolitems=[('Home', 'Reset original view', 'home', 'home'), ('Back', 'Back to previous …"
      ]
     },
     "metadata": {},
     "output_type": "display_data"
    },
    {
     "data": {
      "text/plain": [
       "[<matplotlib.lines.Line2D at 0x1be636c1708>]"
      ]
     },
     "execution_count": 7,
     "metadata": {},
     "output_type": "execute_result"
    }
   ],
   "source": [
    "# create a 3x3 grid of subplots\n",
    "fig, ((ax1,ax2,ax3), (ax4,ax5,ax6), (ax7,ax8,ax9)) = plt.subplots(3, 3, sharex=True, sharey=True)\n",
    "# plot the linear_data on the 5th subplot axes \n",
    "ax5.plot(linear_data, '-')"
   ]
  },
  {
   "cell_type": "code",
   "execution_count": 8,
   "metadata": {
    "collapsed": false,
    "jupyter": {
     "outputs_hidden": false
    }
   },
   "outputs": [],
   "source": [
    "# set inside tick labels to visible (DIDN'T WORK)\n",
    "for ax in plt.gcf().get_axes():\n",
    "    for label in ax.get_xticklabels() + ax.get_yticklabels():\n",
    "        label.set_visible(True)"
   ]
  },
  {
   "cell_type": "code",
   "execution_count": 9,
   "metadata": {},
   "outputs": [],
   "source": [
    "# necessary on some systems to update the plot\n",
    "plt.gcf().canvas.draw()"
   ]
  },
  {
   "cell_type": "markdown",
   "metadata": {},
   "source": [
    "# Histograms"
   ]
  },
  {
   "cell_type": "code",
   "execution_count": 10,
   "metadata": {
    "collapsed": false,
    "jupyter": {
     "outputs_hidden": false
    }
   },
   "outputs": [
    {
     "data": {
      "application/vnd.jupyter.widget-view+json": {
       "model_id": "f18a2ae215524042afb9931c7409cab3",
       "version_major": 2,
       "version_minor": 0
      },
      "text/plain": [
       "Canvas(toolbar=Toolbar(toolitems=[('Home', 'Reset original view', 'home', 'home'), ('Back', 'Back to previous …"
      ]
     },
     "metadata": {},
     "output_type": "display_data"
    }
   ],
   "source": [
    "# create 2x2 grid of axis subplots\n",
    "fig, ((ax1, ax2), (ax3, ax4)) = plt.subplots(2, 2, sharex=True)\n",
    "axs = [ax1,ax2,ax3,ax4]\n",
    "\n",
    "# draw n = 10, 100, 1000, and 10000 samples from the normal distribution and plot corresponding histograms\n",
    "for n in range(0,len(axs)):\n",
    "    sample_size = 10**(n+1)\n",
    "    sample = np.random.normal(loc=0.0, scale=1.0, size=sample_size)\n",
    "    axs[n].hist(sample)\n",
    "    axs[n].set_title('n={}'.format(sample_size))"
   ]
  },
  {
   "cell_type": "code",
   "execution_count": 11,
   "metadata": {
    "collapsed": false,
    "jupyter": {
     "outputs_hidden": false
    }
   },
   "outputs": [
    {
     "data": {
      "application/vnd.jupyter.widget-view+json": {
       "model_id": "2cb8fd68402c40a6bdbfeb0f4fa33f71",
       "version_major": 2,
       "version_minor": 0
      },
      "text/plain": [
       "Canvas(toolbar=Toolbar(toolitems=[('Home', 'Reset original view', 'home', 'home'), ('Back', 'Back to previous …"
      ]
     },
     "metadata": {},
     "output_type": "display_data"
    }
   ],
   "source": [
    "# repeat with number of bins set to 100\n",
    "fig, ((ax1, ax2), (ax3, ax4)) = plt.subplots(2, 2, sharex=True)\n",
    "axs = [ax1,ax2,ax3,ax4]\n",
    "\n",
    "for n in range(0,len(axs)):\n",
    "    sample_size = 10**(n+1)\n",
    "    sample = np.random.normal(loc=0.0, scale=1.0, size=sample_size)\n",
    "    axs[n].hist(sample, bins=100)\n",
    "    axs[n].set_title('n={}'.format(sample_size))"
   ]
  },
  {
   "cell_type": "code",
   "execution_count": 12,
   "metadata": {
    "collapsed": false,
    "jupyter": {
     "outputs_hidden": false
    }
   },
   "outputs": [
    {
     "data": {
      "application/vnd.jupyter.widget-view+json": {
       "model_id": "df1da3a01bd24912a2ec230461231ec0",
       "version_major": 2,
       "version_minor": 0
      },
      "text/plain": [
       "Canvas(toolbar=Toolbar(toolitems=[('Home', 'Reset original view', 'home', 'home'), ('Back', 'Back to previous …"
      ]
     },
     "metadata": {},
     "output_type": "display_data"
    },
    {
     "data": {
      "text/plain": [
       "<matplotlib.collections.PathCollection at 0x1be6356cb48>"
      ]
     },
     "execution_count": 12,
     "metadata": {},
     "output_type": "execute_result"
    }
   ],
   "source": [
    "plt.figure()\n",
    "Y = np.random.normal(loc=0.0, scale=1.0, size=10000)\n",
    "X = np.random.random(size=10000)\n",
    "plt.scatter(X,Y)"
   ]
  },
  {
   "cell_type": "code",
   "execution_count": 13,
   "metadata": {
    "collapsed": false,
    "jupyter": {
     "outputs_hidden": false
    }
   },
   "outputs": [
    {
     "data": {
      "application/vnd.jupyter.widget-view+json": {
       "model_id": "6cb62268647641bcbe931c0e6773704d",
       "version_major": 2,
       "version_minor": 0
      },
      "text/plain": [
       "Canvas(toolbar=Toolbar(toolitems=[('Home', 'Reset original view', 'home', 'home'), ('Back', 'Back to previous …"
      ]
     },
     "metadata": {},
     "output_type": "display_data"
    }
   ],
   "source": [
    "# use gridspec to partition the figure into subplots\n",
    "import matplotlib.gridspec as gridspec\n",
    "\n",
    "plt.figure(figsize= (7,7))\n",
    "gspec = gridspec.GridSpec(3, 3)\n",
    "\n",
    "top_histogram = plt.subplot(gspec[0, 1:])\n",
    "side_histogram = plt.subplot(gspec[1:, 0])\n",
    "lower_right = plt.subplot(gspec[1:, 1:])"
   ]
  },
  {
   "cell_type": "code",
   "execution_count": 14,
   "metadata": {
    "collapsed": false,
    "jupyter": {
     "outputs_hidden": false
    }
   },
   "outputs": [],
   "source": [
    "Y = np.random.normal(loc=0.0, scale=1.0, size=10000)\n",
    "X = np.random.random(size=10000)\n",
    "lower_right.scatter(X, Y)\n",
    "top_histogram.hist(X, bins=100)\n",
    "s = side_histogram.hist(Y, bins=100, orientation='horizontal')"
   ]
  },
  {
   "cell_type": "code",
   "execution_count": 15,
   "metadata": {},
   "outputs": [],
   "source": [
    "# clear the histograms and plot normed histograms\n",
    "top_histogram.clear()\n",
    "top_histogram.hist(X, bins=100, density=True)\n",
    "side_histogram.clear()\n",
    "side_histogram.hist(Y, bins=100, orientation='horizontal', density=True)\n",
    "# flip the side histogram's x axis\n",
    "side_histogram.invert_xaxis()"
   ]
  },
  {
   "cell_type": "code",
   "execution_count": 16,
   "metadata": {
    "collapsed": false,
    "jupyter": {
     "outputs_hidden": false
    }
   },
   "outputs": [],
   "source": [
    "# change axes limits\n",
    "for ax in [top_histogram, lower_right]:\n",
    "    ax.set_xlim(0, 1)\n",
    "for ax in [side_histogram, lower_right]:\n",
    "    ax.set_ylim(-5, 5)"
   ]
  },
  {
   "cell_type": "markdown",
   "metadata": {},
   "source": [
    "![MOOC DATA](moocdata.png \"Image\")"
   ]
  },
  {
   "cell_type": "markdown",
   "metadata": {},
   "source": [
    "# Box and Whisker Plots"
   ]
  },
  {
   "cell_type": "code",
   "execution_count": 17,
   "metadata": {
    "collapsed": false,
    "jupyter": {
     "outputs_hidden": false
    }
   },
   "outputs": [],
   "source": [
    "import pandas as pd\n",
    "normal_sample = np.random.normal(loc=0.0, scale=1.0, size=100000)\n",
    "random_sample = np.random.random(size=100000)\n",
    "gamma_sample = np.random.gamma(2, size=100000)\n",
    "\n",
    "df = pd.DataFrame({'normal': normal_sample, \n",
    "                   'random': random_sample, \n",
    "                   'gamma': gamma_sample})"
   ]
  },
  {
   "cell_type": "code",
   "execution_count": 18,
   "metadata": {
    "collapsed": false,
    "jupyter": {
     "outputs_hidden": false
    }
   },
   "outputs": [
    {
     "data": {
      "text/html": [
       "<div>\n",
       "<style scoped>\n",
       "    .dataframe tbody tr th:only-of-type {\n",
       "        vertical-align: middle;\n",
       "    }\n",
       "\n",
       "    .dataframe tbody tr th {\n",
       "        vertical-align: top;\n",
       "    }\n",
       "\n",
       "    .dataframe thead th {\n",
       "        text-align: right;\n",
       "    }\n",
       "</style>\n",
       "<table border=\"1\" class=\"dataframe\">\n",
       "  <thead>\n",
       "    <tr style=\"text-align: right;\">\n",
       "      <th></th>\n",
       "      <th>normal</th>\n",
       "      <th>random</th>\n",
       "      <th>gamma</th>\n",
       "    </tr>\n",
       "  </thead>\n",
       "  <tbody>\n",
       "    <tr>\n",
       "      <th>count</th>\n",
       "      <td>100000.000000</td>\n",
       "      <td>100000.000000</td>\n",
       "      <td>100000.000000</td>\n",
       "    </tr>\n",
       "    <tr>\n",
       "      <th>mean</th>\n",
       "      <td>0.001136</td>\n",
       "      <td>0.500437</td>\n",
       "      <td>1.999853</td>\n",
       "    </tr>\n",
       "    <tr>\n",
       "      <th>std</th>\n",
       "      <td>0.998034</td>\n",
       "      <td>0.289091</td>\n",
       "      <td>1.422295</td>\n",
       "    </tr>\n",
       "    <tr>\n",
       "      <th>min</th>\n",
       "      <td>-4.577031</td>\n",
       "      <td>0.000002</td>\n",
       "      <td>0.004109</td>\n",
       "    </tr>\n",
       "    <tr>\n",
       "      <th>25%</th>\n",
       "      <td>-0.674853</td>\n",
       "      <td>0.250816</td>\n",
       "      <td>0.960365</td>\n",
       "    </tr>\n",
       "    <tr>\n",
       "      <th>50%</th>\n",
       "      <td>0.001626</td>\n",
       "      <td>0.501163</td>\n",
       "      <td>1.675384</td>\n",
       "    </tr>\n",
       "    <tr>\n",
       "      <th>75%</th>\n",
       "      <td>0.672998</td>\n",
       "      <td>0.750673</td>\n",
       "      <td>2.686692</td>\n",
       "    </tr>\n",
       "    <tr>\n",
       "      <th>max</th>\n",
       "      <td>4.321745</td>\n",
       "      <td>0.999998</td>\n",
       "      <td>14.020975</td>\n",
       "    </tr>\n",
       "  </tbody>\n",
       "</table>\n",
       "</div>"
      ],
      "text/plain": [
       "              normal         random          gamma\n",
       "count  100000.000000  100000.000000  100000.000000\n",
       "mean        0.001136       0.500437       1.999853\n",
       "std         0.998034       0.289091       1.422295\n",
       "min        -4.577031       0.000002       0.004109\n",
       "25%        -0.674853       0.250816       0.960365\n",
       "50%         0.001626       0.501163       1.675384\n",
       "75%         0.672998       0.750673       2.686692\n",
       "max         4.321745       0.999998      14.020975"
      ]
     },
     "execution_count": 18,
     "metadata": {},
     "output_type": "execute_result"
    }
   ],
   "source": [
    "df.describe()"
   ]
  },
  {
   "cell_type": "code",
   "execution_count": 19,
   "metadata": {
    "collapsed": false,
    "jupyter": {
     "outputs_hidden": false
    }
   },
   "outputs": [
    {
     "data": {
      "application/vnd.jupyter.widget-view+json": {
       "model_id": "762abfe90cbb4bf99d392402bfd9b4b9",
       "version_major": 2,
       "version_minor": 0
      },
      "text/plain": [
       "Canvas(toolbar=Toolbar(toolitems=[('Home', 'Reset original view', 'home', 'home'), ('Back', 'Back to previous …"
      ]
     },
     "metadata": {},
     "output_type": "display_data"
    }
   ],
   "source": [
    "plt.figure()\n",
    "# create a boxplot of the normal data, assign the output to a variable to supress output\n",
    "_ = plt.boxplot(df['normal'], whis='range')"
   ]
  },
  {
   "cell_type": "code",
   "execution_count": 20,
   "metadata": {
    "collapsed": false,
    "jupyter": {
     "outputs_hidden": false
    }
   },
   "outputs": [],
   "source": [
    "# clear the current figure\n",
    "plt.clf()\n",
    "# plot boxplots for all three of df's columns\n",
    "_ = plt.boxplot([ df['normal'], df['random'], df['gamma'] ], whis='range')"
   ]
  },
  {
   "cell_type": "code",
   "execution_count": 21,
   "metadata": {},
   "outputs": [
    {
     "data": {
      "application/vnd.jupyter.widget-view+json": {
       "model_id": "e5c6c2ae789947c3bcbb5080211a08b3",
       "version_major": 2,
       "version_minor": 0
      },
      "text/plain": [
       "Canvas(toolbar=Toolbar(toolitems=[('Home', 'Reset original view', 'home', 'home'), ('Back', 'Back to previous …"
      ]
     },
     "metadata": {},
     "output_type": "display_data"
    },
    {
     "data": {
      "text/plain": [
       "<matplotlib.axes._subplots.AxesSubplot at 0x1be678539c8>"
      ]
     },
     "execution_count": 21,
     "metadata": {},
     "output_type": "execute_result"
    }
   ],
   "source": [
    "import seaborn as sns\n",
    "plt.figure()\n",
    "sns.distplot(df['gamma'])"
   ]
  },
  {
   "cell_type": "code",
   "execution_count": 22,
   "metadata": {
    "collapsed": false,
    "jupyter": {
     "outputs_hidden": false
    }
   },
   "outputs": [],
   "source": [
    "# plt.figure()\n",
    "_ = plt.hist(df['gamma'], bins=100, density = True)"
   ]
  },
  {
   "cell_type": "code",
   "execution_count": 23,
   "metadata": {
    "collapsed": false,
    "jupyter": {
     "outputs_hidden": false
    }
   },
   "outputs": [
    {
     "data": {
      "application/vnd.jupyter.widget-view+json": {
       "model_id": "0da1c353aa184212b84e135790bd6331",
       "version_major": 2,
       "version_minor": 0
      },
      "text/plain": [
       "Canvas(toolbar=Toolbar(toolitems=[('Home', 'Reset original view', 'home', 'home'), ('Back', 'Back to previous …"
      ]
     },
     "metadata": {},
     "output_type": "display_data"
    }
   ],
   "source": [
    "import mpl_toolkits.axes_grid1.inset_locator as mpl_il\n",
    "\n",
    "plt.figure()\n",
    "plt.boxplot([ df['normal'], df['random'], df['gamma'] ], whis='range')\n",
    "# overlay axis on top of another \n",
    "ax2 = mpl_il.inset_axes(plt.gca(), width='60%', height='40%', loc=2)\n",
    "ax2.hist(df['gamma'], bins=100)\n",
    "ax2.margins(x=0.5)"
   ]
  },
  {
   "cell_type": "code",
   "execution_count": 24,
   "metadata": {},
   "outputs": [],
   "source": [
    "# switch the y axis ticks for ax2 to the right side\n",
    "ax2.yaxis.tick_right()"
   ]
  },
  {
   "cell_type": "code",
   "execution_count": 25,
   "metadata": {
    "collapsed": false,
    "jupyter": {
     "outputs_hidden": false
    }
   },
   "outputs": [
    {
     "data": {
      "application/vnd.jupyter.widget-view+json": {
       "model_id": "fe00067410a24b2d8d691ae6e2f31be2",
       "version_major": 2,
       "version_minor": 0
      },
      "text/plain": [
       "Canvas(toolbar=Toolbar(toolitems=[('Home', 'Reset original view', 'home', 'home'), ('Back', 'Back to previous …"
      ]
     },
     "metadata": {},
     "output_type": "display_data"
    }
   ],
   "source": [
    "# if `whis` argument isn't passed, boxplot defaults to showing 1.5*interquartile (IQR) whiskers with outliers\n",
    "plt.figure()\n",
    "_ = plt.boxplot([ df['normal'], df['random'], df['gamma'] ] )"
   ]
  },
  {
   "cell_type": "markdown",
   "metadata": {},
   "source": [
    "# Heatmaps"
   ]
  },
  {
   "cell_type": "code",
   "execution_count": 26,
   "metadata": {
    "collapsed": false,
    "jupyter": {
     "outputs_hidden": false
    }
   },
   "outputs": [
    {
     "data": {
      "application/vnd.jupyter.widget-view+json": {
       "model_id": "10e16ae716af4b4e8065c1fa5373b34a",
       "version_major": 2,
       "version_minor": 0
      },
      "text/plain": [
       "Canvas(toolbar=Toolbar(toolitems=[('Home', 'Reset original view', 'home', 'home'), ('Back', 'Back to previous …"
      ]
     },
     "metadata": {},
     "output_type": "display_data"
    }
   ],
   "source": [
    "\n",
    "Y = np.random.normal(loc=0.0, scale=1.0, size=10000)\n",
    "X = np.random.random(size=10000)\n",
    "\n",
    "import matplotlib.gridspec as gridspec\n",
    "\n",
    "plt.figure(figsize= (7,7))\n",
    "gspec = gridspec.GridSpec(3, 3)\n",
    "\n",
    "top_histogram = plt.subplot(gspec[0, 1:])\n",
    "side_histogram = plt.subplot(gspec[1:, 0])\n",
    "lower_right = plt.subplot(gspec[1:, 1:])\n",
    "\n",
    "_ = lower_right.hist2d(X, Y, bins=25)\n",
    "top_histogram.hist(X, bins=100)\n",
    "s = side_histogram.hist(Y, bins=100, orientation='horizontal')"
   ]
  },
  {
   "cell_type": "code",
   "execution_count": 28,
   "metadata": {
    "collapsed": false,
    "jupyter": {
     "outputs_hidden": false
    }
   },
   "outputs": [
    {
     "data": {
      "application/vnd.jupyter.widget-view+json": {
       "model_id": "6cb810fbf7f145c3b33cb276d98ddc7e",
       "version_major": 2,
       "version_minor": 0
      },
      "text/plain": [
       "Canvas(toolbar=Toolbar(toolitems=[('Home', 'Reset original view', 'home', 'home'), ('Back', 'Back to previous …"
      ]
     },
     "metadata": {},
     "output_type": "display_data"
    }
   ],
   "source": [
    "plt.figure()\n",
    "_ = plt.hist2d(X, Y, bins=100, density=True)"
   ]
  },
  {
   "cell_type": "code",
   "execution_count": 29,
   "metadata": {
    "collapsed": false,
    "jupyter": {
     "outputs_hidden": false
    }
   },
   "outputs": [
    {
     "data": {
      "text/plain": [
       "<matplotlib.colorbar.Colorbar at 0x29ffdd97dc8>"
      ]
     },
     "execution_count": 29,
     "metadata": {},
     "output_type": "execute_result"
    }
   ],
   "source": [
    "# add a colorbar legend\n",
    "plt.colorbar()"
   ]
  },
  {
   "cell_type": "markdown",
   "metadata": {},
   "source": [
    "# Animations"
   ]
  },
  {
   "cell_type": "code",
   "execution_count": 43,
   "metadata": {},
   "outputs": [],
   "source": [
    "import matplotlib.animation as animation\n",
    "\n",
    "n = 100\n",
    "x = np.random.randn(n)"
   ]
  },
  {
   "cell_type": "code",
   "execution_count": 44,
   "metadata": {
    "collapsed": false,
    "jupyter": {
     "outputs_hidden": false
    }
   },
   "outputs": [],
   "source": [
    "# create the function that will do the plotting, where curr is the current frame\n",
    "def update(curr):\n",
    "    # check if animation is at the last frame, and if so, stop the animation a\n",
    "    if curr == n: \n",
    "        a.event_source.stop()\n",
    "    plt.cla()\n",
    "    bins = np.arange(-4, 4, 0.5)\n",
    "    plt.hist(x[:curr], bins=bins)\n",
    "    plt.axis([-4,4,0,30])\n",
    "    plt.gca().set_title('Sampling the Normal Distribution')\n",
    "    plt.gca().set_ylabel('Frequency')\n",
    "    plt.gca().set_xlabel('Value')\n",
    "    plt.annotate('n = {}'.format(curr), [3,27])"
   ]
  },
  {
   "cell_type": "code",
   "execution_count": 45,
   "metadata": {
    "collapsed": false,
    "jupyter": {
     "outputs_hidden": false
    }
   },
   "outputs": [
    {
     "name": "stderr",
     "output_type": "stream",
     "text": [
      "C:\\Users\\mdomi\\anaconda3\\lib\\site-packages\\ipykernel_launcher.py:1: RuntimeWarning: More than 20 figures have been opened. Figures created through the pyplot interface (`matplotlib.pyplot.figure`) are retained until explicitly closed and may consume too much memory. (To control this warning, see the rcParam `figure.max_open_warning`).\n",
      "  \"\"\"Entry point for launching an IPython kernel.\n"
     ]
    },
    {
     "data": {
      "application/vnd.jupyter.widget-view+json": {
       "model_id": "e62b4a60279e40578ec01fde105b0848",
       "version_major": 2,
       "version_minor": 0
      },
      "text/plain": [
       "Canvas(toolbar=Toolbar(toolitems=[('Home', 'Reset original view', 'home', 'home'), ('Back', 'Back to previous …"
      ]
     },
     "metadata": {},
     "output_type": "display_data"
    }
   ],
   "source": [
    "fig = plt.figure()\n",
    "a = animation.FuncAnimation(fig, update, interval=100)"
   ]
  },
  {
   "cell_type": "markdown",
   "metadata": {},
   "source": [
    "# Interactivity"
   ]
  },
  {
   "cell_type": "code",
   "execution_count": 2,
   "metadata": {
    "collapsed": false,
    "jupyter": {
     "outputs_hidden": false
    }
   },
   "outputs": [
    {
     "data": {
      "application/vnd.jupyter.widget-view+json": {
       "model_id": "81296f2c32204836aa98988773e13a35",
       "version_major": 2,
       "version_minor": 0
      },
      "text/plain": [
       "Canvas(toolbar=Toolbar(toolitems=[('Home', 'Reset original view', 'home', 'home'), ('Back', 'Back to previous …"
      ]
     },
     "metadata": {},
     "output_type": "display_data"
    },
    {
     "data": {
      "text/plain": [
       "7"
      ]
     },
     "execution_count": 2,
     "metadata": {},
     "output_type": "execute_result"
    }
   ],
   "source": [
    "plt.figure()\n",
    "data = np.random.rand(10)\n",
    "plt.plot(data)\n",
    "\n",
    "def onclick(event):\n",
    "    plt.cla()\n",
    "    plt.plot(data)\n",
    "    plt.gca().set_title('Event at pixels {},{} \\nand data {},{}'.format(event.x, event.y, event.xdata, event.ydata))\n",
    "\n",
    "# tell mpl_connect we want to pass a 'button_press_event' into onclick when the event is detected\n",
    "plt.gcf().canvas.mpl_connect('button_press_event', onclick)"
   ]
  },
  {
   "cell_type": "code",
   "execution_count": 6,
   "metadata": {
    "collapsed": false,
    "jupyter": {
     "outputs_hidden": false
    }
   },
   "outputs": [
    {
     "data": {
      "text/html": [
       "<div>\n",
       "<style scoped>\n",
       "    .dataframe tbody tr th:only-of-type {\n",
       "        vertical-align: middle;\n",
       "    }\n",
       "\n",
       "    .dataframe tbody tr th {\n",
       "        vertical-align: top;\n",
       "    }\n",
       "\n",
       "    .dataframe thead th {\n",
       "        text-align: right;\n",
       "    }\n",
       "</style>\n",
       "<table border=\"1\" class=\"dataframe\">\n",
       "  <thead>\n",
       "    <tr style=\"text-align: right;\">\n",
       "      <th></th>\n",
       "      <th>height</th>\n",
       "      <th>weight</th>\n",
       "      <th>origin</th>\n",
       "    </tr>\n",
       "  </thead>\n",
       "  <tbody>\n",
       "    <tr>\n",
       "      <th>0</th>\n",
       "      <td>0.475723</td>\n",
       "      <td>0.346403</td>\n",
       "      <td>Brazil</td>\n",
       "    </tr>\n",
       "    <tr>\n",
       "      <th>1</th>\n",
       "      <td>0.888245</td>\n",
       "      <td>0.642192</td>\n",
       "      <td>India</td>\n",
       "    </tr>\n",
       "    <tr>\n",
       "      <th>2</th>\n",
       "      <td>0.849461</td>\n",
       "      <td>0.217104</td>\n",
       "      <td>UK</td>\n",
       "    </tr>\n",
       "    <tr>\n",
       "      <th>3</th>\n",
       "      <td>0.103250</td>\n",
       "      <td>0.129965</td>\n",
       "      <td>Chile</td>\n",
       "    </tr>\n",
       "    <tr>\n",
       "      <th>4</th>\n",
       "      <td>0.378213</td>\n",
       "      <td>0.811891</td>\n",
       "      <td>Canada</td>\n",
       "    </tr>\n",
       "    <tr>\n",
       "      <th>5</th>\n",
       "      <td>0.023567</td>\n",
       "      <td>0.593924</td>\n",
       "      <td>Germany</td>\n",
       "    </tr>\n",
       "    <tr>\n",
       "      <th>6</th>\n",
       "      <td>0.758345</td>\n",
       "      <td>0.341058</td>\n",
       "      <td>Iraq</td>\n",
       "    </tr>\n",
       "    <tr>\n",
       "      <th>7</th>\n",
       "      <td>0.069846</td>\n",
       "      <td>0.337693</td>\n",
       "      <td>China</td>\n",
       "    </tr>\n",
       "    <tr>\n",
       "      <th>8</th>\n",
       "      <td>0.641857</td>\n",
       "      <td>0.329305</td>\n",
       "      <td>Mexico</td>\n",
       "    </tr>\n",
       "    <tr>\n",
       "      <th>9</th>\n",
       "      <td>0.120887</td>\n",
       "      <td>0.452462</td>\n",
       "      <td>USA</td>\n",
       "    </tr>\n",
       "  </tbody>\n",
       "</table>\n",
       "</div>"
      ],
      "text/plain": [
       "     height    weight   origin\n",
       "0  0.475723  0.346403   Brazil\n",
       "1  0.888245  0.642192    India\n",
       "2  0.849461  0.217104       UK\n",
       "3  0.103250  0.129965    Chile\n",
       "4  0.378213  0.811891   Canada\n",
       "5  0.023567  0.593924  Germany\n",
       "6  0.758345  0.341058     Iraq\n",
       "7  0.069846  0.337693    China\n",
       "8  0.641857  0.329305   Mexico\n",
       "9  0.120887  0.452462      USA"
      ]
     },
     "execution_count": 6,
     "metadata": {},
     "output_type": "execute_result"
    }
   ],
   "source": [
    "from random import shuffle\n",
    "import pandas as pd\n",
    "\n",
    "origins = ['China', 'Brazil', 'India', 'USA', 'Canada', 'UK', 'Germany', 'Iraq', 'Chile', 'Mexico']\n",
    "\n",
    "shuffle(origins)\n",
    "\n",
    "df = pd.DataFrame({'height': np.random.rand(10),\n",
    "                   'weight': np.random.rand(10),\n",
    "                   'origin': origins})\n",
    "df"
   ]
  },
  {
   "cell_type": "code",
   "execution_count": 7,
   "metadata": {
    "collapsed": false,
    "jupyter": {
     "outputs_hidden": false
    }
   },
   "outputs": [
    {
     "data": {
      "application/vnd.jupyter.widget-view+json": {
       "model_id": "3a632a03e04241199b869a26ab34879f",
       "version_major": 2,
       "version_minor": 0
      },
      "text/plain": [
       "Canvas(toolbar=Toolbar(toolitems=[('Home', 'Reset original view', 'home', 'home'), ('Back', 'Back to previous …"
      ]
     },
     "metadata": {},
     "output_type": "display_data"
    },
    {
     "data": {
      "text/plain": [
       "Text(0.5, 0, 'Height')"
      ]
     },
     "execution_count": 7,
     "metadata": {},
     "output_type": "execute_result"
    }
   ],
   "source": [
    "plt.figure()\n",
    "# picker=5 means the mouse doesn't have to click directly on an event, but can be up to 5 pixels away\n",
    "plt.scatter(df['height'], df['weight'], picker=5)\n",
    "plt.gca().set_ylabel('Weight')\n",
    "plt.gca().set_xlabel('Height')"
   ]
  },
  {
   "cell_type": "code",
   "execution_count": 9,
   "metadata": {
    "collapsed": false,
    "jupyter": {
     "outputs_hidden": false
    }
   },
   "outputs": [
    {
     "data": {
      "text/plain": [
       "8"
      ]
     },
     "execution_count": 9,
     "metadata": {},
     "output_type": "execute_result"
    }
   ],
   "source": [
    "def onpick(event):\n",
    "    origin = df.iloc[event.ind[0]]['origin']\n",
    "    plt.text(0.2,0.2, origin)\n",
    "    plt.gca().set_title('Selected item came from {}'.format(origin))\n",
    "\n",
    "# tell mpl_connect we want to pass a 'pick_event' into onpick when the event is detected\n",
    "plt.gcf().canvas.mpl_connect('pick_event', onpick)"
   ]
  },
  {
   "cell_type": "code",
   "execution_count": 95,
   "metadata": {},
   "outputs": [],
   "source": [
    "import pandas as pd"
   ]
  },
  {
   "cell_type": "code",
   "execution_count": 98,
   "metadata": {},
   "outputs": [
    {
     "data": {
      "text/html": [
       "<div>\n",
       "<style scoped>\n",
       "    .dataframe tbody tr th:only-of-type {\n",
       "        vertical-align: middle;\n",
       "    }\n",
       "\n",
       "    .dataframe tbody tr th {\n",
       "        vertical-align: top;\n",
       "    }\n",
       "\n",
       "    .dataframe thead th {\n",
       "        text-align: right;\n",
       "    }\n",
       "</style>\n",
       "<table border=\"1\" class=\"dataframe\">\n",
       "  <thead>\n",
       "    <tr style=\"text-align: right;\">\n",
       "      <th></th>\n",
       "      <th>id</th>\n",
       "      <th>node_id</th>\n",
       "      <th>name</th>\n",
       "      <th>full_name</th>\n",
       "      <th>private</th>\n",
       "      <th>owner</th>\n",
       "      <th>html_url</th>\n",
       "      <th>description</th>\n",
       "      <th>fork</th>\n",
       "      <th>url</th>\n",
       "      <th>...</th>\n",
       "      <th>forks_count</th>\n",
       "      <th>mirror_url</th>\n",
       "      <th>archived</th>\n",
       "      <th>disabled</th>\n",
       "      <th>open_issues_count</th>\n",
       "      <th>license</th>\n",
       "      <th>forks</th>\n",
       "      <th>open_issues</th>\n",
       "      <th>watchers</th>\n",
       "      <th>default_branch</th>\n",
       "    </tr>\n",
       "  </thead>\n",
       "  <tbody>\n",
       "    <tr>\n",
       "      <th>0</th>\n",
       "      <td>155565363</td>\n",
       "      <td>MDEwOlJlcG9zaXRvcnkxNTU1NjUzNjM=</td>\n",
       "      <td>2018</td>\n",
       "      <td>jtleek/2018</td>\n",
       "      <td>False</td>\n",
       "      <td>{'login': 'jtleek', 'id': 1571674, 'node_id': ...</td>\n",
       "      <td>https://github.com/jtleek/2018</td>\n",
       "      <td>Fall 2018 repository with course materials for...</td>\n",
       "      <td>True</td>\n",
       "      <td>https://api.github.com/repos/jtleek/2018</td>\n",
       "      <td>...</td>\n",
       "      <td>2</td>\n",
       "      <td>NaN</td>\n",
       "      <td>False</td>\n",
       "      <td>False</td>\n",
       "      <td>0</td>\n",
       "      <td>None</td>\n",
       "      <td>2</td>\n",
       "      <td>0</td>\n",
       "      <td>0</td>\n",
       "      <td>master</td>\n",
       "    </tr>\n",
       "    <tr>\n",
       "      <th>1</th>\n",
       "      <td>264786491</td>\n",
       "      <td>MDEwOlJlcG9zaXRvcnkyNjQ3ODY0OTE=</td>\n",
       "      <td>ads2020</td>\n",
       "      <td>jtleek/ads2020</td>\n",
       "      <td>False</td>\n",
       "      <td>{'login': 'jtleek', 'id': 1571674, 'node_id': ...</td>\n",
       "      <td>https://github.com/jtleek/ads2020</td>\n",
       "      <td>Advanced Data Science 2020 Edition</td>\n",
       "      <td>False</td>\n",
       "      <td>https://api.github.com/repos/jtleek/ads2020</td>\n",
       "      <td>...</td>\n",
       "      <td>3</td>\n",
       "      <td>NaN</td>\n",
       "      <td>False</td>\n",
       "      <td>False</td>\n",
       "      <td>0</td>\n",
       "      <td>None</td>\n",
       "      <td>3</td>\n",
       "      <td>0</td>\n",
       "      <td>30</td>\n",
       "      <td>master</td>\n",
       "    </tr>\n",
       "    <tr>\n",
       "      <th>2</th>\n",
       "      <td>101394164</td>\n",
       "      <td>MDEwOlJlcG9zaXRvcnkxMDEzOTQxNjQ=</td>\n",
       "      <td>advdatasci</td>\n",
       "      <td>jtleek/advdatasci</td>\n",
       "      <td>False</td>\n",
       "      <td>{'login': 'jtleek', 'id': 1571674, 'node_id': ...</td>\n",
       "      <td>https://github.com/jtleek/advdatasci</td>\n",
       "      <td>None</td>\n",
       "      <td>True</td>\n",
       "      <td>https://api.github.com/repos/jtleek/advdatasci</td>\n",
       "      <td>...</td>\n",
       "      <td>8</td>\n",
       "      <td>NaN</td>\n",
       "      <td>False</td>\n",
       "      <td>False</td>\n",
       "      <td>0</td>\n",
       "      <td>None</td>\n",
       "      <td>8</td>\n",
       "      <td>0</td>\n",
       "      <td>16</td>\n",
       "      <td>master</td>\n",
       "    </tr>\n",
       "    <tr>\n",
       "      <th>3</th>\n",
       "      <td>111447948</td>\n",
       "      <td>MDEwOlJlcG9zaXRvcnkxMTE0NDc5NDg=</td>\n",
       "      <td>advdatasci-project</td>\n",
       "      <td>jtleek/advdatasci-project</td>\n",
       "      <td>False</td>\n",
       "      <td>{'login': 'jtleek', 'id': 1571674, 'node_id': ...</td>\n",
       "      <td>https://github.com/jtleek/advdatasci-project</td>\n",
       "      <td>Awesome project!</td>\n",
       "      <td>False</td>\n",
       "      <td>https://api.github.com/repos/jtleek/advdatasci...</td>\n",
       "      <td>...</td>\n",
       "      <td>0</td>\n",
       "      <td>NaN</td>\n",
       "      <td>False</td>\n",
       "      <td>False</td>\n",
       "      <td>0</td>\n",
       "      <td>None</td>\n",
       "      <td>0</td>\n",
       "      <td>0</td>\n",
       "      <td>0</td>\n",
       "      <td>master</td>\n",
       "    </tr>\n",
       "    <tr>\n",
       "      <th>4</th>\n",
       "      <td>47568815</td>\n",
       "      <td>MDEwOlJlcG9zaXRvcnk0NzU2ODgxNQ==</td>\n",
       "      <td>advdatasci-swirl</td>\n",
       "      <td>jtleek/advdatasci-swirl</td>\n",
       "      <td>False</td>\n",
       "      <td>{'login': 'jtleek', 'id': 1571674, 'node_id': ...</td>\n",
       "      <td>https://github.com/jtleek/advdatasci-swirl</td>\n",
       "      <td>None</td>\n",
       "      <td>False</td>\n",
       "      <td>https://api.github.com/repos/jtleek/advdatasci...</td>\n",
       "      <td>...</td>\n",
       "      <td>2</td>\n",
       "      <td>NaN</td>\n",
       "      <td>False</td>\n",
       "      <td>False</td>\n",
       "      <td>1</td>\n",
       "      <td>None</td>\n",
       "      <td>2</td>\n",
       "      <td>1</td>\n",
       "      <td>4</td>\n",
       "      <td>master</td>\n",
       "    </tr>\n",
       "    <tr>\n",
       "      <th>5</th>\n",
       "      <td>41645119</td>\n",
       "      <td>MDEwOlJlcG9zaXRvcnk0MTY0NTExOQ==</td>\n",
       "      <td>advdatasci15</td>\n",
       "      <td>jtleek/advdatasci15</td>\n",
       "      <td>False</td>\n",
       "      <td>{'login': 'jtleek', 'id': 1571674, 'node_id': ...</td>\n",
       "      <td>https://github.com/jtleek/advdatasci15</td>\n",
       "      <td>Advanced Data Science @ JHU Biostats</td>\n",
       "      <td>False</td>\n",
       "      <td>https://api.github.com/repos/jtleek/advdatasci15</td>\n",
       "      <td>...</td>\n",
       "      <td>7</td>\n",
       "      <td>NaN</td>\n",
       "      <td>False</td>\n",
       "      <td>False</td>\n",
       "      <td>0</td>\n",
       "      <td>None</td>\n",
       "      <td>7</td>\n",
       "      <td>0</td>\n",
       "      <td>14</td>\n",
       "      <td>gh-pages</td>\n",
       "    </tr>\n",
       "    <tr>\n",
       "      <th>6</th>\n",
       "      <td>65922328</td>\n",
       "      <td>MDEwOlJlcG9zaXRvcnk2NTkyMjMyOA==</td>\n",
       "      <td>advdatasci16</td>\n",
       "      <td>jtleek/advdatasci16</td>\n",
       "      <td>False</td>\n",
       "      <td>{'login': 'jtleek', 'id': 1571674, 'node_id': ...</td>\n",
       "      <td>https://github.com/jtleek/advdatasci16</td>\n",
       "      <td>None</td>\n",
       "      <td>False</td>\n",
       "      <td>https://api.github.com/repos/jtleek/advdatasci16</td>\n",
       "      <td>...</td>\n",
       "      <td>9</td>\n",
       "      <td>NaN</td>\n",
       "      <td>False</td>\n",
       "      <td>False</td>\n",
       "      <td>0</td>\n",
       "      <td>None</td>\n",
       "      <td>9</td>\n",
       "      <td>0</td>\n",
       "      <td>6</td>\n",
       "      <td>gh-pages</td>\n",
       "    </tr>\n",
       "    <tr>\n",
       "      <th>7</th>\n",
       "      <td>66415014</td>\n",
       "      <td>MDEwOlJlcG9zaXRvcnk2NjQxNTAxNA==</td>\n",
       "      <td>advdatasci_swirl</td>\n",
       "      <td>jtleek/advdatasci_swirl</td>\n",
       "      <td>False</td>\n",
       "      <td>{'login': 'jtleek', 'id': 1571674, 'node_id': ...</td>\n",
       "      <td>https://github.com/jtleek/advdatasci_swirl</td>\n",
       "      <td>None</td>\n",
       "      <td>False</td>\n",
       "      <td>https://api.github.com/repos/jtleek/advdatasci...</td>\n",
       "      <td>...</td>\n",
       "      <td>4</td>\n",
       "      <td>NaN</td>\n",
       "      <td>False</td>\n",
       "      <td>False</td>\n",
       "      <td>1</td>\n",
       "      <td>None</td>\n",
       "      <td>4</td>\n",
       "      <td>1</td>\n",
       "      <td>4</td>\n",
       "      <td>master</td>\n",
       "    </tr>\n",
       "    <tr>\n",
       "      <th>8</th>\n",
       "      <td>12441219</td>\n",
       "      <td>MDEwOlJlcG9zaXRvcnkxMjQ0MTIxOQ==</td>\n",
       "      <td>ballgown</td>\n",
       "      <td>jtleek/ballgown</td>\n",
       "      <td>False</td>\n",
       "      <td>{'login': 'jtleek', 'id': 1571674, 'node_id': ...</td>\n",
       "      <td>https://github.com/jtleek/ballgown</td>\n",
       "      <td>code for manipulating ballgown output in R</td>\n",
       "      <td>True</td>\n",
       "      <td>https://api.github.com/repos/jtleek/ballgown</td>\n",
       "      <td>...</td>\n",
       "      <td>1</td>\n",
       "      <td>NaN</td>\n",
       "      <td>False</td>\n",
       "      <td>False</td>\n",
       "      <td>0</td>\n",
       "      <td>None</td>\n",
       "      <td>1</td>\n",
       "      <td>0</td>\n",
       "      <td>0</td>\n",
       "      <td>master</td>\n",
       "    </tr>\n",
       "    <tr>\n",
       "      <th>9</th>\n",
       "      <td>258010045</td>\n",
       "      <td>MDEwOlJlcG9zaXRvcnkyNTgwMTAwNDU=</td>\n",
       "      <td>big_course</td>\n",
       "      <td>jtleek/big_course</td>\n",
       "      <td>False</td>\n",
       "      <td>{'login': 'jtleek', 'id': 1571674, 'node_id': ...</td>\n",
       "      <td>https://github.com/jtleek/big_course</td>\n",
       "      <td>Repo for the BIG Experiment MOOC</td>\n",
       "      <td>False</td>\n",
       "      <td>https://api.github.com/repos/jtleek/big_course</td>\n",
       "      <td>...</td>\n",
       "      <td>0</td>\n",
       "      <td>NaN</td>\n",
       "      <td>False</td>\n",
       "      <td>False</td>\n",
       "      <td>0</td>\n",
       "      <td>None</td>\n",
       "      <td>0</td>\n",
       "      <td>0</td>\n",
       "      <td>1</td>\n",
       "      <td>master</td>\n",
       "    </tr>\n",
       "    <tr>\n",
       "      <th>10</th>\n",
       "      <td>75141158</td>\n",
       "      <td>MDEwOlJlcG9zaXRvcnk3NTE0MTE1OA==</td>\n",
       "      <td>bookdown-start</td>\n",
       "      <td>jtleek/bookdown-start</td>\n",
       "      <td>False</td>\n",
       "      <td>{'login': 'jtleek', 'id': 1571674, 'node_id': ...</td>\n",
       "      <td>https://github.com/jtleek/bookdown-start</td>\n",
       "      <td>None</td>\n",
       "      <td>True</td>\n",
       "      <td>https://api.github.com/repos/jtleek/bookdown-s...</td>\n",
       "      <td>...</td>\n",
       "      <td>2</td>\n",
       "      <td>NaN</td>\n",
       "      <td>False</td>\n",
       "      <td>False</td>\n",
       "      <td>0</td>\n",
       "      <td>None</td>\n",
       "      <td>2</td>\n",
       "      <td>0</td>\n",
       "      <td>1</td>\n",
       "      <td>master</td>\n",
       "    </tr>\n",
       "    <tr>\n",
       "      <th>11</th>\n",
       "      <td>20234724</td>\n",
       "      <td>MDEwOlJlcG9zaXRvcnkyMDIzNDcyNA==</td>\n",
       "      <td>capitalIn21stCenturyinR</td>\n",
       "      <td>jtleek/capitalIn21stCenturyinR</td>\n",
       "      <td>False</td>\n",
       "      <td>{'login': 'jtleek', 'id': 1571674, 'node_id': ...</td>\n",
       "      <td>https://github.com/jtleek/capitalIn21stCenturyinR</td>\n",
       "      <td>Piketty in R</td>\n",
       "      <td>False</td>\n",
       "      <td>https://api.github.com/repos/jtleek/capitalIn2...</td>\n",
       "      <td>...</td>\n",
       "      <td>126</td>\n",
       "      <td>NaN</td>\n",
       "      <td>False</td>\n",
       "      <td>False</td>\n",
       "      <td>0</td>\n",
       "      <td>None</td>\n",
       "      <td>126</td>\n",
       "      <td>0</td>\n",
       "      <td>210</td>\n",
       "      <td>master</td>\n",
       "    </tr>\n",
       "    <tr>\n",
       "      <th>12</th>\n",
       "      <td>36437287</td>\n",
       "      <td>MDEwOlJlcG9zaXRvcnkzNjQzNzI4Nw==</td>\n",
       "      <td>careerplanning</td>\n",
       "      <td>jtleek/careerplanning</td>\n",
       "      <td>False</td>\n",
       "      <td>{'login': 'jtleek', 'id': 1571674, 'node_id': ...</td>\n",
       "      <td>https://github.com/jtleek/careerplanning</td>\n",
       "      <td>A career planning guide.</td>\n",
       "      <td>False</td>\n",
       "      <td>https://api.github.com/repos/jtleek/careerplan...</td>\n",
       "      <td>...</td>\n",
       "      <td>25</td>\n",
       "      <td>NaN</td>\n",
       "      <td>False</td>\n",
       "      <td>False</td>\n",
       "      <td>0</td>\n",
       "      <td>None</td>\n",
       "      <td>25</td>\n",
       "      <td>0</td>\n",
       "      <td>97</td>\n",
       "      <td>master</td>\n",
       "    </tr>\n",
       "    <tr>\n",
       "      <th>13</th>\n",
       "      <td>250507642</td>\n",
       "      <td>MDEwOlJlcG9zaXRvcnkyNTA1MDc2NDI=</td>\n",
       "      <td>COVID-19</td>\n",
       "      <td>jtleek/COVID-19</td>\n",
       "      <td>False</td>\n",
       "      <td>{'login': 'jtleek', 'id': 1571674, 'node_id': ...</td>\n",
       "      <td>https://github.com/jtleek/COVID-19</td>\n",
       "      <td>Novel Coronavirus (COVID-19) Cases, provided b...</td>\n",
       "      <td>True</td>\n",
       "      <td>https://api.github.com/repos/jtleek/COVID-19</td>\n",
       "      <td>...</td>\n",
       "      <td>2</td>\n",
       "      <td>NaN</td>\n",
       "      <td>False</td>\n",
       "      <td>False</td>\n",
       "      <td>0</td>\n",
       "      <td>None</td>\n",
       "      <td>2</td>\n",
       "      <td>0</td>\n",
       "      <td>1</td>\n",
       "      <td>master</td>\n",
       "    </tr>\n",
       "    <tr>\n",
       "      <th>14</th>\n",
       "      <td>136021897</td>\n",
       "      <td>MDEwOlJlcG9zaXRvcnkxMzYwMjE4OTc=</td>\n",
       "      <td>crsra</td>\n",
       "      <td>jtleek/crsra</td>\n",
       "      <td>False</td>\n",
       "      <td>{'login': 'jtleek', 'id': 1571674, 'node_id': ...</td>\n",
       "      <td>https://github.com/jtleek/crsra</td>\n",
       "      <td>A package for cleaning and analyzing Coursera ...</td>\n",
       "      <td>True</td>\n",
       "      <td>https://api.github.com/repos/jtleek/crsra</td>\n",
       "      <td>...</td>\n",
       "      <td>3</td>\n",
       "      <td>NaN</td>\n",
       "      <td>False</td>\n",
       "      <td>False</td>\n",
       "      <td>0</td>\n",
       "      <td>None</td>\n",
       "      <td>3</td>\n",
       "      <td>0</td>\n",
       "      <td>1</td>\n",
       "      <td>master</td>\n",
       "    </tr>\n",
       "    <tr>\n",
       "      <th>15</th>\n",
       "      <td>112599365</td>\n",
       "      <td>MDEwOlJlcG9zaXRvcnkxMTI1OTkzNjU=</td>\n",
       "      <td>cshlcg-labs</td>\n",
       "      <td>jtleek/cshlcg-labs</td>\n",
       "      <td>False</td>\n",
       "      <td>{'login': 'jtleek', 'id': 1571674, 'node_id': ...</td>\n",
       "      <td>https://github.com/jtleek/cshlcg-labs</td>\n",
       "      <td>Cold Spring Harbor Labs Computational Genomics</td>\n",
       "      <td>False</td>\n",
       "      <td>https://api.github.com/repos/jtleek/cshlcg-labs</td>\n",
       "      <td>...</td>\n",
       "      <td>6</td>\n",
       "      <td>NaN</td>\n",
       "      <td>False</td>\n",
       "      <td>False</td>\n",
       "      <td>2</td>\n",
       "      <td>None</td>\n",
       "      <td>6</td>\n",
       "      <td>2</td>\n",
       "      <td>3</td>\n",
       "      <td>master</td>\n",
       "    </tr>\n",
       "    <tr>\n",
       "      <th>16</th>\n",
       "      <td>7751816</td>\n",
       "      <td>MDEwOlJlcG9zaXRvcnk3NzUxODE2</td>\n",
       "      <td>dataanalysis</td>\n",
       "      <td>jtleek/dataanalysis</td>\n",
       "      <td>False</td>\n",
       "      <td>{'login': 'jtleek', 'id': 1571674, 'node_id': ...</td>\n",
       "      <td>https://github.com/jtleek/dataanalysis</td>\n",
       "      <td>The lecture slides for Coursera's Data Analysi...</td>\n",
       "      <td>False</td>\n",
       "      <td>https://api.github.com/repos/jtleek/dataanalysis</td>\n",
       "      <td>...</td>\n",
       "      <td>702</td>\n",
       "      <td>NaN</td>\n",
       "      <td>False</td>\n",
       "      <td>False</td>\n",
       "      <td>5</td>\n",
       "      <td>None</td>\n",
       "      <td>702</td>\n",
       "      <td>5</td>\n",
       "      <td>699</td>\n",
       "      <td>master</td>\n",
       "    </tr>\n",
       "    <tr>\n",
       "      <th>17</th>\n",
       "      <td>4772877</td>\n",
       "      <td>MDEwOlJlcG9zaXRvcnk0NzcyODc3</td>\n",
       "      <td>datascientist</td>\n",
       "      <td>jtleek/datascientist</td>\n",
       "      <td>False</td>\n",
       "      <td>{'login': 'jtleek', 'id': 1571674, 'node_id': ...</td>\n",
       "      <td>https://github.com/jtleek/datascientist</td>\n",
       "      <td>datascientist</td>\n",
       "      <td>False</td>\n",
       "      <td>https://api.github.com/repos/jtleek/datascientist</td>\n",
       "      <td>...</td>\n",
       "      <td>40</td>\n",
       "      <td>NaN</td>\n",
       "      <td>False</td>\n",
       "      <td>False</td>\n",
       "      <td>0</td>\n",
       "      <td>None</td>\n",
       "      <td>40</td>\n",
       "      <td>0</td>\n",
       "      <td>10</td>\n",
       "      <td>master</td>\n",
       "    </tr>\n",
       "    <tr>\n",
       "      <th>18</th>\n",
       "      <td>14204342</td>\n",
       "      <td>MDEwOlJlcG9zaXRvcnkxNDIwNDM0Mg==</td>\n",
       "      <td>datasharing</td>\n",
       "      <td>jtleek/datasharing</td>\n",
       "      <td>False</td>\n",
       "      <td>{'login': 'jtleek', 'id': 1571674, 'node_id': ...</td>\n",
       "      <td>https://github.com/jtleek/datasharing</td>\n",
       "      <td>The Leek group guide to data sharing</td>\n",
       "      <td>False</td>\n",
       "      <td>https://api.github.com/repos/jtleek/datasharing</td>\n",
       "      <td>...</td>\n",
       "      <td>211923</td>\n",
       "      <td>NaN</td>\n",
       "      <td>False</td>\n",
       "      <td>False</td>\n",
       "      <td>580</td>\n",
       "      <td>None</td>\n",
       "      <td>211923</td>\n",
       "      <td>580</td>\n",
       "      <td>5237</td>\n",
       "      <td>master</td>\n",
       "    </tr>\n",
       "    <tr>\n",
       "      <th>19</th>\n",
       "      <td>23840078</td>\n",
       "      <td>MDEwOlJlcG9zaXRvcnkyMzg0MDA3OA==</td>\n",
       "      <td>datawomenontwitter</td>\n",
       "      <td>jtleek/datawomenontwitter</td>\n",
       "      <td>False</td>\n",
       "      <td>{'login': 'jtleek', 'id': 1571674, 'node_id': ...</td>\n",
       "      <td>https://github.com/jtleek/datawomenontwitter</td>\n",
       "      <td>A list of women doing great data things on Twi...</td>\n",
       "      <td>False</td>\n",
       "      <td>https://api.github.com/repos/jtleek/datawomeno...</td>\n",
       "      <td>...</td>\n",
       "      <td>5</td>\n",
       "      <td>NaN</td>\n",
       "      <td>False</td>\n",
       "      <td>False</td>\n",
       "      <td>1</td>\n",
       "      <td>None</td>\n",
       "      <td>5</td>\n",
       "      <td>1</td>\n",
       "      <td>6</td>\n",
       "      <td>master</td>\n",
       "    </tr>\n",
       "    <tr>\n",
       "      <th>20</th>\n",
       "      <td>96824057</td>\n",
       "      <td>MDEwOlJlcG9zaXRvcnk5NjgyNDA1Nw==</td>\n",
       "      <td>day1</td>\n",
       "      <td>jtleek/day1</td>\n",
       "      <td>False</td>\n",
       "      <td>{'login': 'jtleek', 'id': 1571674, 'node_id': ...</td>\n",
       "      <td>https://github.com/jtleek/day1</td>\n",
       "      <td>This is for SISBID</td>\n",
       "      <td>False</td>\n",
       "      <td>https://api.github.com/repos/jtleek/day1</td>\n",
       "      <td>...</td>\n",
       "      <td>1</td>\n",
       "      <td>NaN</td>\n",
       "      <td>False</td>\n",
       "      <td>False</td>\n",
       "      <td>0</td>\n",
       "      <td>None</td>\n",
       "      <td>1</td>\n",
       "      <td>0</td>\n",
       "      <td>0</td>\n",
       "      <td>master</td>\n",
       "    </tr>\n",
       "    <tr>\n",
       "      <th>21</th>\n",
       "      <td>11549405</td>\n",
       "      <td>MDEwOlJlcG9zaXRvcnkxMTU0OTQwNQ==</td>\n",
       "      <td>derfinder</td>\n",
       "      <td>jtleek/derfinder</td>\n",
       "      <td>False</td>\n",
       "      <td>{'login': 'jtleek', 'id': 1571674, 'node_id': ...</td>\n",
       "      <td>https://github.com/jtleek/derfinder</td>\n",
       "      <td>None</td>\n",
       "      <td>True</td>\n",
       "      <td>https://api.github.com/repos/jtleek/derfinder</td>\n",
       "      <td>...</td>\n",
       "      <td>0</td>\n",
       "      <td>NaN</td>\n",
       "      <td>False</td>\n",
       "      <td>False</td>\n",
       "      <td>0</td>\n",
       "      <td>None</td>\n",
       "      <td>0</td>\n",
       "      <td>0</td>\n",
       "      <td>0</td>\n",
       "      <td>master</td>\n",
       "    </tr>\n",
       "    <tr>\n",
       "      <th>22</th>\n",
       "      <td>14240696</td>\n",
       "      <td>MDEwOlJlcG9zaXRvcnkxNDI0MDY5Ng==</td>\n",
       "      <td>derfinder-1</td>\n",
       "      <td>jtleek/derfinder-1</td>\n",
       "      <td>False</td>\n",
       "      <td>{'login': 'jtleek', 'id': 1571674, 'node_id': ...</td>\n",
       "      <td>https://github.com/jtleek/derfinder-1</td>\n",
       "      <td>Fast differential expression analysis of RNA-s...</td>\n",
       "      <td>True</td>\n",
       "      <td>https://api.github.com/repos/jtleek/derfinder-1</td>\n",
       "      <td>...</td>\n",
       "      <td>1</td>\n",
       "      <td>NaN</td>\n",
       "      <td>False</td>\n",
       "      <td>False</td>\n",
       "      <td>0</td>\n",
       "      <td>None</td>\n",
       "      <td>1</td>\n",
       "      <td>0</td>\n",
       "      <td>0</td>\n",
       "      <td>master</td>\n",
       "    </tr>\n",
       "    <tr>\n",
       "      <th>23</th>\n",
       "      <td>11976743</td>\n",
       "      <td>MDEwOlJlcG9zaXRvcnkxMTk3Njc0Mw==</td>\n",
       "      <td>DSM</td>\n",
       "      <td>jtleek/DSM</td>\n",
       "      <td>False</td>\n",
       "      <td>{'login': 'jtleek', 'id': 1571674, 'node_id': ...</td>\n",
       "      <td>https://github.com/jtleek/DSM</td>\n",
       "      <td>Deterministic Statistical Machine</td>\n",
       "      <td>True</td>\n",
       "      <td>https://api.github.com/repos/jtleek/DSM</td>\n",
       "      <td>...</td>\n",
       "      <td>0</td>\n",
       "      <td>NaN</td>\n",
       "      <td>False</td>\n",
       "      <td>False</td>\n",
       "      <td>0</td>\n",
       "      <td>None</td>\n",
       "      <td>0</td>\n",
       "      <td>0</td>\n",
       "      <td>0</td>\n",
       "      <td>master</td>\n",
       "    </tr>\n",
       "    <tr>\n",
       "      <th>24</th>\n",
       "      <td>8730097</td>\n",
       "      <td>MDEwOlJlcG9zaXRvcnk4NzMwMDk3</td>\n",
       "      <td>EDA-Project</td>\n",
       "      <td>jtleek/EDA-Project</td>\n",
       "      <td>False</td>\n",
       "      <td>{'login': 'jtleek', 'id': 1571674, 'node_id': ...</td>\n",
       "      <td>https://github.com/jtleek/EDA-Project</td>\n",
       "      <td>None</td>\n",
       "      <td>True</td>\n",
       "      <td>https://api.github.com/repos/jtleek/EDA-Project</td>\n",
       "      <td>...</td>\n",
       "      <td>0</td>\n",
       "      <td>NaN</td>\n",
       "      <td>False</td>\n",
       "      <td>False</td>\n",
       "      <td>0</td>\n",
       "      <td>None</td>\n",
       "      <td>0</td>\n",
       "      <td>0</td>\n",
       "      <td>1</td>\n",
       "      <td>master</td>\n",
       "    </tr>\n",
       "    <tr>\n",
       "      <th>25</th>\n",
       "      <td>266150752</td>\n",
       "      <td>MDEwOlJlcG9zaXRvcnkyNjYxNTA3NTI=</td>\n",
       "      <td>escalatr</td>\n",
       "      <td>jtleek/escalatr</td>\n",
       "      <td>False</td>\n",
       "      <td>{'login': 'jtleek', 'id': 1571674, 'node_id': ...</td>\n",
       "      <td>https://github.com/jtleek/escalatr</td>\n",
       "      <td>A package for making R markdown websites.</td>\n",
       "      <td>False</td>\n",
       "      <td>https://api.github.com/repos/jtleek/escalatr</td>\n",
       "      <td>...</td>\n",
       "      <td>0</td>\n",
       "      <td>NaN</td>\n",
       "      <td>False</td>\n",
       "      <td>False</td>\n",
       "      <td>0</td>\n",
       "      <td>None</td>\n",
       "      <td>0</td>\n",
       "      <td>0</td>\n",
       "      <td>4</td>\n",
       "      <td>master</td>\n",
       "    </tr>\n",
       "    <tr>\n",
       "      <th>26</th>\n",
       "      <td>262636504</td>\n",
       "      <td>MDEwOlJlcG9zaXRvcnkyNjI2MzY1MDQ=</td>\n",
       "      <td>euclideo</td>\n",
       "      <td>jtleek/euclideo</td>\n",
       "      <td>False</td>\n",
       "      <td>{'login': 'jtleek', 'id': 1571674, 'node_id': ...</td>\n",
       "      <td>https://github.com/jtleek/euclideo</td>\n",
       "      <td>Game for my kids!</td>\n",
       "      <td>False</td>\n",
       "      <td>https://api.github.com/repos/jtleek/euclideo</td>\n",
       "      <td>...</td>\n",
       "      <td>0</td>\n",
       "      <td>NaN</td>\n",
       "      <td>False</td>\n",
       "      <td>False</td>\n",
       "      <td>0</td>\n",
       "      <td>{'key': 'other', 'name': 'Other', 'spdx_id': '...</td>\n",
       "      <td>0</td>\n",
       "      <td>0</td>\n",
       "      <td>0</td>\n",
       "      <td>master</td>\n",
       "    </tr>\n",
       "    <tr>\n",
       "      <th>27</th>\n",
       "      <td>42663787</td>\n",
       "      <td>MDEwOlJlcG9zaXRvcnk0MjY2Mzc4Nw==</td>\n",
       "      <td>firstpaper</td>\n",
       "      <td>jtleek/firstpaper</td>\n",
       "      <td>False</td>\n",
       "      <td>{'login': 'jtleek', 'id': 1571674, 'node_id': ...</td>\n",
       "      <td>https://github.com/jtleek/firstpaper</td>\n",
       "      <td>None</td>\n",
       "      <td>False</td>\n",
       "      <td>https://api.github.com/repos/jtleek/firstpaper</td>\n",
       "      <td>...</td>\n",
       "      <td>58</td>\n",
       "      <td>NaN</td>\n",
       "      <td>False</td>\n",
       "      <td>False</td>\n",
       "      <td>0</td>\n",
       "      <td>{'key': 'gpl-2.0', 'name': 'GNU General Public...</td>\n",
       "      <td>58</td>\n",
       "      <td>0</td>\n",
       "      <td>239</td>\n",
       "      <td>master</td>\n",
       "    </tr>\n",
       "    <tr>\n",
       "      <th>28</th>\n",
       "      <td>14590772</td>\n",
       "      <td>MDEwOlJlcG9zaXRvcnkxNDU5MDc3Mg==</td>\n",
       "      <td>futureofstats</td>\n",
       "      <td>jtleek/futureofstats</td>\n",
       "      <td>False</td>\n",
       "      <td>{'login': 'jtleek', 'id': 1571674, 'node_id': ...</td>\n",
       "      <td>https://github.com/jtleek/futureofstats</td>\n",
       "      <td>Take Homes from the Unconference on the Future...</td>\n",
       "      <td>False</td>\n",
       "      <td>https://api.github.com/repos/jtleek/futureofstats</td>\n",
       "      <td>...</td>\n",
       "      <td>23</td>\n",
       "      <td>NaN</td>\n",
       "      <td>False</td>\n",
       "      <td>False</td>\n",
       "      <td>1</td>\n",
       "      <td>None</td>\n",
       "      <td>23</td>\n",
       "      <td>1</td>\n",
       "      <td>33</td>\n",
       "      <td>master</td>\n",
       "    </tr>\n",
       "    <tr>\n",
       "      <th>29</th>\n",
       "      <td>136025738</td>\n",
       "      <td>MDEwOlJlcG9zaXRvcnkxMzYwMjU3Mzg=</td>\n",
       "      <td>gcd</td>\n",
       "      <td>jtleek/gcd</td>\n",
       "      <td>False</td>\n",
       "      <td>{'login': 'jtleek', 'id': 1571674, 'node_id': ...</td>\n",
       "      <td>https://github.com/jtleek/gcd</td>\n",
       "      <td>Getting and cleaning data reboot</td>\n",
       "      <td>False</td>\n",
       "      <td>https://api.github.com/repos/jtleek/gcd</td>\n",
       "      <td>...</td>\n",
       "      <td>1</td>\n",
       "      <td>NaN</td>\n",
       "      <td>False</td>\n",
       "      <td>False</td>\n",
       "      <td>0</td>\n",
       "      <td>None</td>\n",
       "      <td>1</td>\n",
       "      <td>0</td>\n",
       "      <td>0</td>\n",
       "      <td>master</td>\n",
       "    </tr>\n",
       "  </tbody>\n",
       "</table>\n",
       "<p>30 rows × 73 columns</p>\n",
       "</div>"
      ],
      "text/plain": [
       "           id                           node_id                     name  \\\n",
       "0   155565363  MDEwOlJlcG9zaXRvcnkxNTU1NjUzNjM=                     2018   \n",
       "1   264786491  MDEwOlJlcG9zaXRvcnkyNjQ3ODY0OTE=                  ads2020   \n",
       "2   101394164  MDEwOlJlcG9zaXRvcnkxMDEzOTQxNjQ=               advdatasci   \n",
       "3   111447948  MDEwOlJlcG9zaXRvcnkxMTE0NDc5NDg=       advdatasci-project   \n",
       "4    47568815  MDEwOlJlcG9zaXRvcnk0NzU2ODgxNQ==         advdatasci-swirl   \n",
       "5    41645119  MDEwOlJlcG9zaXRvcnk0MTY0NTExOQ==             advdatasci15   \n",
       "6    65922328  MDEwOlJlcG9zaXRvcnk2NTkyMjMyOA==             advdatasci16   \n",
       "7    66415014  MDEwOlJlcG9zaXRvcnk2NjQxNTAxNA==         advdatasci_swirl   \n",
       "8    12441219  MDEwOlJlcG9zaXRvcnkxMjQ0MTIxOQ==                 ballgown   \n",
       "9   258010045  MDEwOlJlcG9zaXRvcnkyNTgwMTAwNDU=               big_course   \n",
       "10   75141158  MDEwOlJlcG9zaXRvcnk3NTE0MTE1OA==           bookdown-start   \n",
       "11   20234724  MDEwOlJlcG9zaXRvcnkyMDIzNDcyNA==  capitalIn21stCenturyinR   \n",
       "12   36437287  MDEwOlJlcG9zaXRvcnkzNjQzNzI4Nw==           careerplanning   \n",
       "13  250507642  MDEwOlJlcG9zaXRvcnkyNTA1MDc2NDI=                 COVID-19   \n",
       "14  136021897  MDEwOlJlcG9zaXRvcnkxMzYwMjE4OTc=                    crsra   \n",
       "15  112599365  MDEwOlJlcG9zaXRvcnkxMTI1OTkzNjU=              cshlcg-labs   \n",
       "16    7751816      MDEwOlJlcG9zaXRvcnk3NzUxODE2             dataanalysis   \n",
       "17    4772877      MDEwOlJlcG9zaXRvcnk0NzcyODc3            datascientist   \n",
       "18   14204342  MDEwOlJlcG9zaXRvcnkxNDIwNDM0Mg==              datasharing   \n",
       "19   23840078  MDEwOlJlcG9zaXRvcnkyMzg0MDA3OA==       datawomenontwitter   \n",
       "20   96824057  MDEwOlJlcG9zaXRvcnk5NjgyNDA1Nw==                     day1   \n",
       "21   11549405  MDEwOlJlcG9zaXRvcnkxMTU0OTQwNQ==                derfinder   \n",
       "22   14240696  MDEwOlJlcG9zaXRvcnkxNDI0MDY5Ng==              derfinder-1   \n",
       "23   11976743  MDEwOlJlcG9zaXRvcnkxMTk3Njc0Mw==                      DSM   \n",
       "24    8730097      MDEwOlJlcG9zaXRvcnk4NzMwMDk3              EDA-Project   \n",
       "25  266150752  MDEwOlJlcG9zaXRvcnkyNjYxNTA3NTI=                 escalatr   \n",
       "26  262636504  MDEwOlJlcG9zaXRvcnkyNjI2MzY1MDQ=                 euclideo   \n",
       "27   42663787  MDEwOlJlcG9zaXRvcnk0MjY2Mzc4Nw==               firstpaper   \n",
       "28   14590772  MDEwOlJlcG9zaXRvcnkxNDU5MDc3Mg==            futureofstats   \n",
       "29  136025738  MDEwOlJlcG9zaXRvcnkxMzYwMjU3Mzg=                      gcd   \n",
       "\n",
       "                         full_name  private  \\\n",
       "0                      jtleek/2018    False   \n",
       "1                   jtleek/ads2020    False   \n",
       "2                jtleek/advdatasci    False   \n",
       "3        jtleek/advdatasci-project    False   \n",
       "4          jtleek/advdatasci-swirl    False   \n",
       "5              jtleek/advdatasci15    False   \n",
       "6              jtleek/advdatasci16    False   \n",
       "7          jtleek/advdatasci_swirl    False   \n",
       "8                  jtleek/ballgown    False   \n",
       "9                jtleek/big_course    False   \n",
       "10           jtleek/bookdown-start    False   \n",
       "11  jtleek/capitalIn21stCenturyinR    False   \n",
       "12           jtleek/careerplanning    False   \n",
       "13                 jtleek/COVID-19    False   \n",
       "14                    jtleek/crsra    False   \n",
       "15              jtleek/cshlcg-labs    False   \n",
       "16             jtleek/dataanalysis    False   \n",
       "17            jtleek/datascientist    False   \n",
       "18              jtleek/datasharing    False   \n",
       "19       jtleek/datawomenontwitter    False   \n",
       "20                     jtleek/day1    False   \n",
       "21                jtleek/derfinder    False   \n",
       "22              jtleek/derfinder-1    False   \n",
       "23                      jtleek/DSM    False   \n",
       "24              jtleek/EDA-Project    False   \n",
       "25                 jtleek/escalatr    False   \n",
       "26                 jtleek/euclideo    False   \n",
       "27               jtleek/firstpaper    False   \n",
       "28            jtleek/futureofstats    False   \n",
       "29                      jtleek/gcd    False   \n",
       "\n",
       "                                                owner  \\\n",
       "0   {'login': 'jtleek', 'id': 1571674, 'node_id': ...   \n",
       "1   {'login': 'jtleek', 'id': 1571674, 'node_id': ...   \n",
       "2   {'login': 'jtleek', 'id': 1571674, 'node_id': ...   \n",
       "3   {'login': 'jtleek', 'id': 1571674, 'node_id': ...   \n",
       "4   {'login': 'jtleek', 'id': 1571674, 'node_id': ...   \n",
       "5   {'login': 'jtleek', 'id': 1571674, 'node_id': ...   \n",
       "6   {'login': 'jtleek', 'id': 1571674, 'node_id': ...   \n",
       "7   {'login': 'jtleek', 'id': 1571674, 'node_id': ...   \n",
       "8   {'login': 'jtleek', 'id': 1571674, 'node_id': ...   \n",
       "9   {'login': 'jtleek', 'id': 1571674, 'node_id': ...   \n",
       "10  {'login': 'jtleek', 'id': 1571674, 'node_id': ...   \n",
       "11  {'login': 'jtleek', 'id': 1571674, 'node_id': ...   \n",
       "12  {'login': 'jtleek', 'id': 1571674, 'node_id': ...   \n",
       "13  {'login': 'jtleek', 'id': 1571674, 'node_id': ...   \n",
       "14  {'login': 'jtleek', 'id': 1571674, 'node_id': ...   \n",
       "15  {'login': 'jtleek', 'id': 1571674, 'node_id': ...   \n",
       "16  {'login': 'jtleek', 'id': 1571674, 'node_id': ...   \n",
       "17  {'login': 'jtleek', 'id': 1571674, 'node_id': ...   \n",
       "18  {'login': 'jtleek', 'id': 1571674, 'node_id': ...   \n",
       "19  {'login': 'jtleek', 'id': 1571674, 'node_id': ...   \n",
       "20  {'login': 'jtleek', 'id': 1571674, 'node_id': ...   \n",
       "21  {'login': 'jtleek', 'id': 1571674, 'node_id': ...   \n",
       "22  {'login': 'jtleek', 'id': 1571674, 'node_id': ...   \n",
       "23  {'login': 'jtleek', 'id': 1571674, 'node_id': ...   \n",
       "24  {'login': 'jtleek', 'id': 1571674, 'node_id': ...   \n",
       "25  {'login': 'jtleek', 'id': 1571674, 'node_id': ...   \n",
       "26  {'login': 'jtleek', 'id': 1571674, 'node_id': ...   \n",
       "27  {'login': 'jtleek', 'id': 1571674, 'node_id': ...   \n",
       "28  {'login': 'jtleek', 'id': 1571674, 'node_id': ...   \n",
       "29  {'login': 'jtleek', 'id': 1571674, 'node_id': ...   \n",
       "\n",
       "                                             html_url  \\\n",
       "0                      https://github.com/jtleek/2018   \n",
       "1                   https://github.com/jtleek/ads2020   \n",
       "2                https://github.com/jtleek/advdatasci   \n",
       "3        https://github.com/jtleek/advdatasci-project   \n",
       "4          https://github.com/jtleek/advdatasci-swirl   \n",
       "5              https://github.com/jtleek/advdatasci15   \n",
       "6              https://github.com/jtleek/advdatasci16   \n",
       "7          https://github.com/jtleek/advdatasci_swirl   \n",
       "8                  https://github.com/jtleek/ballgown   \n",
       "9                https://github.com/jtleek/big_course   \n",
       "10           https://github.com/jtleek/bookdown-start   \n",
       "11  https://github.com/jtleek/capitalIn21stCenturyinR   \n",
       "12           https://github.com/jtleek/careerplanning   \n",
       "13                 https://github.com/jtleek/COVID-19   \n",
       "14                    https://github.com/jtleek/crsra   \n",
       "15              https://github.com/jtleek/cshlcg-labs   \n",
       "16             https://github.com/jtleek/dataanalysis   \n",
       "17            https://github.com/jtleek/datascientist   \n",
       "18              https://github.com/jtleek/datasharing   \n",
       "19       https://github.com/jtleek/datawomenontwitter   \n",
       "20                     https://github.com/jtleek/day1   \n",
       "21                https://github.com/jtleek/derfinder   \n",
       "22              https://github.com/jtleek/derfinder-1   \n",
       "23                      https://github.com/jtleek/DSM   \n",
       "24              https://github.com/jtleek/EDA-Project   \n",
       "25                 https://github.com/jtleek/escalatr   \n",
       "26                 https://github.com/jtleek/euclideo   \n",
       "27               https://github.com/jtleek/firstpaper   \n",
       "28            https://github.com/jtleek/futureofstats   \n",
       "29                      https://github.com/jtleek/gcd   \n",
       "\n",
       "                                          description   fork  \\\n",
       "0   Fall 2018 repository with course materials for...   True   \n",
       "1                  Advanced Data Science 2020 Edition  False   \n",
       "2                                                None   True   \n",
       "3                                   Awesome project!   False   \n",
       "4                                                None  False   \n",
       "5                Advanced Data Science @ JHU Biostats  False   \n",
       "6                                                None  False   \n",
       "7                                                None  False   \n",
       "8          code for manipulating ballgown output in R   True   \n",
       "9                    Repo for the BIG Experiment MOOC  False   \n",
       "10                                               None   True   \n",
       "11                                       Piketty in R  False   \n",
       "12                           A career planning guide.  False   \n",
       "13  Novel Coronavirus (COVID-19) Cases, provided b...   True   \n",
       "14  A package for cleaning and analyzing Coursera ...   True   \n",
       "15     Cold Spring Harbor Labs Computational Genomics  False   \n",
       "16  The lecture slides for Coursera's Data Analysi...  False   \n",
       "17                                      datascientist  False   \n",
       "18              The Leek group guide to data sharing   False   \n",
       "19  A list of women doing great data things on Twi...  False   \n",
       "20                                 This is for SISBID  False   \n",
       "21                                               None   True   \n",
       "22  Fast differential expression analysis of RNA-s...   True   \n",
       "23                  Deterministic Statistical Machine   True   \n",
       "24                                               None   True   \n",
       "25         A package for making R markdown websites.   False   \n",
       "26                                  Game for my kids!  False   \n",
       "27                                               None  False   \n",
       "28  Take Homes from the Unconference on the Future...  False   \n",
       "29                   Getting and cleaning data reboot  False   \n",
       "\n",
       "                                                  url  ... forks_count  \\\n",
       "0            https://api.github.com/repos/jtleek/2018  ...           2   \n",
       "1         https://api.github.com/repos/jtleek/ads2020  ...           3   \n",
       "2      https://api.github.com/repos/jtleek/advdatasci  ...           8   \n",
       "3   https://api.github.com/repos/jtleek/advdatasci...  ...           0   \n",
       "4   https://api.github.com/repos/jtleek/advdatasci...  ...           2   \n",
       "5    https://api.github.com/repos/jtleek/advdatasci15  ...           7   \n",
       "6    https://api.github.com/repos/jtleek/advdatasci16  ...           9   \n",
       "7   https://api.github.com/repos/jtleek/advdatasci...  ...           4   \n",
       "8        https://api.github.com/repos/jtleek/ballgown  ...           1   \n",
       "9      https://api.github.com/repos/jtleek/big_course  ...           0   \n",
       "10  https://api.github.com/repos/jtleek/bookdown-s...  ...           2   \n",
       "11  https://api.github.com/repos/jtleek/capitalIn2...  ...         126   \n",
       "12  https://api.github.com/repos/jtleek/careerplan...  ...          25   \n",
       "13       https://api.github.com/repos/jtleek/COVID-19  ...           2   \n",
       "14          https://api.github.com/repos/jtleek/crsra  ...           3   \n",
       "15    https://api.github.com/repos/jtleek/cshlcg-labs  ...           6   \n",
       "16   https://api.github.com/repos/jtleek/dataanalysis  ...         702   \n",
       "17  https://api.github.com/repos/jtleek/datascientist  ...          40   \n",
       "18    https://api.github.com/repos/jtleek/datasharing  ...      211923   \n",
       "19  https://api.github.com/repos/jtleek/datawomeno...  ...           5   \n",
       "20           https://api.github.com/repos/jtleek/day1  ...           1   \n",
       "21      https://api.github.com/repos/jtleek/derfinder  ...           0   \n",
       "22    https://api.github.com/repos/jtleek/derfinder-1  ...           1   \n",
       "23            https://api.github.com/repos/jtleek/DSM  ...           0   \n",
       "24    https://api.github.com/repos/jtleek/EDA-Project  ...           0   \n",
       "25       https://api.github.com/repos/jtleek/escalatr  ...           0   \n",
       "26       https://api.github.com/repos/jtleek/euclideo  ...           0   \n",
       "27     https://api.github.com/repos/jtleek/firstpaper  ...          58   \n",
       "28  https://api.github.com/repos/jtleek/futureofstats  ...          23   \n",
       "29            https://api.github.com/repos/jtleek/gcd  ...           1   \n",
       "\n",
       "   mirror_url archived disabled open_issues_count  \\\n",
       "0         NaN    False    False                 0   \n",
       "1         NaN    False    False                 0   \n",
       "2         NaN    False    False                 0   \n",
       "3         NaN    False    False                 0   \n",
       "4         NaN    False    False                 1   \n",
       "5         NaN    False    False                 0   \n",
       "6         NaN    False    False                 0   \n",
       "7         NaN    False    False                 1   \n",
       "8         NaN    False    False                 0   \n",
       "9         NaN    False    False                 0   \n",
       "10        NaN    False    False                 0   \n",
       "11        NaN    False    False                 0   \n",
       "12        NaN    False    False                 0   \n",
       "13        NaN    False    False                 0   \n",
       "14        NaN    False    False                 0   \n",
       "15        NaN    False    False                 2   \n",
       "16        NaN    False    False                 5   \n",
       "17        NaN    False    False                 0   \n",
       "18        NaN    False    False               580   \n",
       "19        NaN    False    False                 1   \n",
       "20        NaN    False    False                 0   \n",
       "21        NaN    False    False                 0   \n",
       "22        NaN    False    False                 0   \n",
       "23        NaN    False    False                 0   \n",
       "24        NaN    False    False                 0   \n",
       "25        NaN    False    False                 0   \n",
       "26        NaN    False    False                 0   \n",
       "27        NaN    False    False                 0   \n",
       "28        NaN    False    False                 1   \n",
       "29        NaN    False    False                 0   \n",
       "\n",
       "                                              license   forks open_issues  \\\n",
       "0                                                None       2           0   \n",
       "1                                                None       3           0   \n",
       "2                                                None       8           0   \n",
       "3                                                None       0           0   \n",
       "4                                                None       2           1   \n",
       "5                                                None       7           0   \n",
       "6                                                None       9           0   \n",
       "7                                                None       4           1   \n",
       "8                                                None       1           0   \n",
       "9                                                None       0           0   \n",
       "10                                               None       2           0   \n",
       "11                                               None     126           0   \n",
       "12                                               None      25           0   \n",
       "13                                               None       2           0   \n",
       "14                                               None       3           0   \n",
       "15                                               None       6           2   \n",
       "16                                               None     702           5   \n",
       "17                                               None      40           0   \n",
       "18                                               None  211923         580   \n",
       "19                                               None       5           1   \n",
       "20                                               None       1           0   \n",
       "21                                               None       0           0   \n",
       "22                                               None       1           0   \n",
       "23                                               None       0           0   \n",
       "24                                               None       0           0   \n",
       "25                                               None       0           0   \n",
       "26  {'key': 'other', 'name': 'Other', 'spdx_id': '...       0           0   \n",
       "27  {'key': 'gpl-2.0', 'name': 'GNU General Public...      58           0   \n",
       "28                                               None      23           1   \n",
       "29                                               None       1           0   \n",
       "\n",
       "   watchers default_branch  \n",
       "0         0         master  \n",
       "1        30         master  \n",
       "2        16         master  \n",
       "3         0         master  \n",
       "4         4         master  \n",
       "5        14       gh-pages  \n",
       "6         6       gh-pages  \n",
       "7         4         master  \n",
       "8         0         master  \n",
       "9         1         master  \n",
       "10        1         master  \n",
       "11      210         master  \n",
       "12       97         master  \n",
       "13        1         master  \n",
       "14        1         master  \n",
       "15        3         master  \n",
       "16      699         master  \n",
       "17       10         master  \n",
       "18     5237         master  \n",
       "19        6         master  \n",
       "20        0         master  \n",
       "21        0         master  \n",
       "22        0         master  \n",
       "23        0         master  \n",
       "24        1         master  \n",
       "25        4         master  \n",
       "26        0         master  \n",
       "27      239         master  \n",
       "28       33         master  \n",
       "29        0         master  \n",
       "\n",
       "[30 rows x 73 columns]"
      ]
     },
     "execution_count": 98,
     "metadata": {},
     "output_type": "execute_result"
    }
   ],
   "source": [
    "pd.read_json('https://api.github.com/users/jtleek/repos')"
   ]
  },
  {
   "cell_type": "code",
   "execution_count": null,
   "metadata": {},
   "outputs": [],
   "source": []
  }
 ],
 "metadata": {
  "kernelspec": {
   "display_name": "Python 3",
   "language": "python",
   "name": "python3"
  },
  "language_info": {
   "codemirror_mode": {
    "name": "ipython",
    "version": 3
   },
   "file_extension": ".py",
   "mimetype": "text/x-python",
   "name": "python",
   "nbconvert_exporter": "python",
   "pygments_lexer": "ipython3",
   "version": "3.7.6"
  }
 },
 "nbformat": 4,
 "nbformat_minor": 4
}
